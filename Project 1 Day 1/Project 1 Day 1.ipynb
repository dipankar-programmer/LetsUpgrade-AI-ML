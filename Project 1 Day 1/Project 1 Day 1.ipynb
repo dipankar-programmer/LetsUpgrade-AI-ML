{
 "cells": [
  {
   "cell_type": "code",
   "execution_count": 2,
   "metadata": {},
   "outputs": [],
   "source": [
    "import os\n",
    "import sys\n",
    "import numpy as np\n",
    "import pandas as pd\n",
    "\n",
    "from sklearn.model_selection import train_test_split\n",
    "from scipy.io import loadmat"
   ]
  },
  {
   "cell_type": "code",
   "execution_count": 3,
   "metadata": {},
   "outputs": [],
   "source": [
    "from pyod.models.pca import PCA\n",
    "from pyod.models.mcd import MCD\n",
    "from pyod.models.ocsvm import OCSVM\n",
    "from pyod.models.lof import LOF\n",
    "from pyod.models.cblof import CBLOF\n",
    "from pyod.models.knn import KNN\n",
    "from pyod.models.hbos import HBOS\n",
    "from pyod.models.abod import ABOD\n",
    "from pyod.models.iforest import IForest\n",
    "from pyod.models.feature_bagging import FeatureBagging"
   ]
  },
  {
   "cell_type": "code",
   "execution_count": 4,
   "metadata": {},
   "outputs": [],
   "source": [
    "from pyod.utils.utility import standardizer\n",
    "from pyod.utils.utility import precision_n_scores\n",
    "from sklearn.metrics import roc_auc_score"
   ]
  },
  {
   "cell_type": "code",
   "execution_count": 5,
   "metadata": {},
   "outputs": [],
   "source": [
    "mat_file_list = ['arrhythmia.mat',\n",
    "                 'cardio.mat',\n",
    "                 'glass.mat',\n",
    "                'ionosphere.mat',\n",
    "                'letter.mat',\n",
    "                'lympho.mat',\n",
    "                'mnist.mat',\n",
    "                'musk.mat',\n",
    "                'optdigits.mat',\n",
    "                'pendigits.mat',\n",
    "                'pima.mat',\n",
    "                'satellite.mat',\n",
    "                'satimage-2.mat',\n",
    "                'shuttle.mat',\n",
    "                'vertebral.mat',\n",
    "                'vowels.mat',\n",
    "                'wbc.mat']"
   ]
  },
  {
   "cell_type": "code",
   "execution_count": 6,
   "metadata": {},
   "outputs": [],
   "source": [
    "data=loadmat('data/cardio.mat')"
   ]
  },
  {
   "cell_type": "code",
   "execution_count": 7,
   "metadata": {},
   "outputs": [
    {
     "data": {
      "text/plain": [
       "{'__header__': b'MATLAB 5.0 MAT-file, written by Octave 3.8.0, 2014-12-18 10:48:09 UTC',\n",
       " '__version__': '1.0',\n",
       " '__globals__': [],\n",
       " 'X': array([[ 0.00491231,  0.69319077, -0.20364049, ...,  0.23149795,\n",
       "         -0.28978574, -0.49329397],\n",
       "        [ 0.11072935, -0.07990259, -0.20364049, ...,  0.09356344,\n",
       "         -0.25638541, -0.49329397],\n",
       "        [ 0.21654639, -0.27244466, -0.20364049, ...,  0.02459619,\n",
       "         -0.25638541,  1.14001753],\n",
       "        ...,\n",
       "        [-0.41835583, -0.91998844, -0.16463485, ..., -1.49268341,\n",
       "          0.24461959, -0.49329397],\n",
       "        [-0.41835583, -0.91998844, -0.15093411, ..., -1.42371616,\n",
       "          0.14441859, -0.49329397],\n",
       "        [-0.41835583, -0.91998844, -0.20364049, ..., -1.28578165,\n",
       "          3.58465295, -0.49329397]]),\n",
       " 'y': array([[0.],\n",
       "        [0.],\n",
       "        [0.],\n",
       "        ...,\n",
       "        [1.],\n",
       "        [1.],\n",
       "        [1.]])}"
      ]
     },
     "execution_count": 7,
     "metadata": {},
     "output_type": "execute_result"
    }
   ],
   "source": [
    "data"
   ]
  },
  {
   "cell_type": "code",
   "execution_count": 9,
   "metadata": {},
   "outputs": [
    {
     "data": {
      "text/plain": [
       "(numpy.ndarray, (1831, 21))"
      ]
     },
     "execution_count": 9,
     "metadata": {},
     "output_type": "execute_result"
    }
   ],
   "source": [
    "type(data['X']),data['X'].shape"
   ]
  },
  {
   "cell_type": "code",
   "execution_count": 10,
   "metadata": {},
   "outputs": [
    {
     "data": {
      "text/plain": [
       "(numpy.ndarray, (1831, 1))"
      ]
     },
     "execution_count": 10,
     "metadata": {},
     "output_type": "execute_result"
    }
   ],
   "source": [
    "type(data['y']),data['y'].shape"
   ]
  },
  {
   "cell_type": "code",
   "execution_count": null,
   "metadata": {},
   "outputs": [],
   "source": [
    "from time import time\n",
    "random_state = np.random.RandomState(42)\n",
    "\n",
    "for mat_file in mat_file_list:\n",
    "    print(\"\\n... Processing\", mat_file, '...')\n",
    "    mat = loadmat(os.path.join('data', mat_file))\n",
    "    \n",
    "    X = mat['X']\n",
    "    y = mat['y'].ravel()\n",
    "    outliners_fraction = np.count_nonzero(y)/len(y)\n",
    "    outliners_percentage = round(outliners_fraction*100, ndigits=4)\n",
    "    \n",
    "    roc_list = [mat_file[:-4], X.shape[0], X.shape[1], outliners_percentage]\n",
    "    prn_list = [mat_file[:-4], X.shape[0], X.shape[1], outliners_percentage]\n",
    "    time_list = [mat_file[:-4], X.shape[0], X.shape[1], outliners_percentage]\n",
    "    \n",
    "    X_train,X_test,y_train,y_test = train_test_split(X,y,test_size=0.4,random_state=random_state)\n",
    "    X_train_norm, X_test_norm = standardizer(X_train, X_test)\n",
    "    \n",
    "    classifiers = {'Angle-based outlier Dectector (ABOD)': ABOD(contamination=outliners_fraction),\n",
    "                  'Cluster-based Local Outlier Factor': CBLOF(contamination=outliners_fraction,check_estimator=False,random_state=random_state),\n",
    "                  'FeatureBagging':FeatureBagging(contamination=outliners_fraction,random_state=random_state),\n",
    "                  'Histogram-base Outier Dectection': HBOS(contamination=outliners_fraction),\n",
    "                  'Isolation Forest':IForest(contamination=outliners_fraction,random_state=random_state),\n",
    "                  'KNN':KNN(contamination=outliners_fraction),\n",
    "                  'Local Outlier Factor':LOF(contamination=outliners_fraction),\n",
    "                  'MCD':MCD(contamination=outliners_fraction,random_state=random_state),\n",
    "                  'OCSVM':OCSVM(contamination=outliners_fraction),\n",
    "                  'PCA':PCA(contamination=outliners_fraction,random_state=random_state),\n",
    "                  }\n",
    "    \n",
    "    for clf_name, clf in classifiers.items():\n",
    "        t0 = time()\n",
    "        clf.fit(X_test_norm)\n",
    "        test_scores = clf.decision_function(X_test_norm)\n",
    "        t1=time()\n",
    "        duration=round(t1-t0, ndigits=4)\n",
    "        time_list.append(duration)\n",
    "        \n",
    "        roc=round(roc_auc_score(y_test, test_scores), ndigits=4)\n",
    "        prn = round(precision_n_scores(y_test, test_scores), ndigits=4)\n",
    "        \n",
    "        print('{clf_name} ROC:{roc}, precision @ rank n:{prn}, execution time:{duration}'.format(clf_name=clf_name, roc=roc, prn=prn,duration=duration ))\n",
    "        \n",
    "        roc_list.append(roc)\n",
    "        prn_list.append(prn)\n",
    "        \n",
    "temp_df = pd.DataFrame(time_list).transpose()\n",
    "temp_df.columns = df_columns\n",
    "time_df = pd.concat([time_df, temp_df], axis=0)\n",
    "\n",
    "temp_df = pd.DataFrame(roc_list).transpose()\n",
    "temp_df.columns = df_columns\n",
    "time_df = pd.concat([roc_df, temp_df], axis=0)\n",
    "\n",
    "temp_df = pd.DataFrame(prn_list).transpose()\n",
    "temp_df.columns = df_columns\n",
    "time_df = pd.concat([prn_df, temp_df], axis=0)\n",
    "   "
   ]
  },
  {
   "cell_type": "code",
   "execution_count": null,
   "metadata": {},
   "outputs": [],
   "source": []
  }
 ],
 "metadata": {
  "kernelspec": {
   "display_name": "Python 3",
   "language": "python",
   "name": "python3"
  },
  "language_info": {
   "codemirror_mode": {
    "name": "ipython",
    "version": 3
   },
   "file_extension": ".py",
   "mimetype": "text/x-python",
   "name": "python",
   "nbconvert_exporter": "python",
   "pygments_lexer": "ipython3",
   "version": "3.7.3"
  }
 },
 "nbformat": 4,
 "nbformat_minor": 4
}
