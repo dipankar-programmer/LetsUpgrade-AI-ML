{
 "cells": [
  {
   "cell_type": "markdown",
   "metadata": {},
   "source": [
    "**DAY 10 ASSIGNMENT**"
   ]
  },
  {
   "cell_type": "markdown",
   "metadata": {},
   "source": [
    "AS PER ME THE FOLLOWING ARE THE HYPOTHESIS-<br />\n",
    "According to the mode of the columns we get( leave the company)-<br />\n",
    "1.Employee with the age of 35years leave the company<br /><br />\n",
    "2.Employee whose distance from home is 2 Km leave the company<br />\n",
    "3.Employee whose education is 3 leave the company<br />\n",
    "4.Employee whose monthly income is Rs.23420 leave the company<br />\n",
    "5.Employee whose no of companies worked is 1 leave the company<br />\n",
    "6.Employee whose percentage salary hike is 11 leave the company<br />\n",
    "7.Employee whose total working years is 10 leave the companyv\n",
    "8.Employee whose traning last year is 2 leave the company\n",
    "9.Employee whose years at company is 5 leave the company\n",
    "10.Employee whose promotion last year is 0 leave the company"
   ]
  }
 ],
 "metadata": {
  "kernelspec": {
   "display_name": "Python 3",
   "language": "python",
   "name": "python3"
  },
  "language_info": {
   "codemirror_mode": {
    "name": "ipython",
    "version": 3
   },
   "file_extension": ".py",
   "mimetype": "text/x-python",
   "name": "python",
   "nbconvert_exporter": "python",
   "pygments_lexer": "ipython3",
   "version": "3.7.3"
  }
 },
 "nbformat": 4,
 "nbformat_minor": 4
}
