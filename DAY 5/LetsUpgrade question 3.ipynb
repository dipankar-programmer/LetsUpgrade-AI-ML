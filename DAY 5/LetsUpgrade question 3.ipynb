{
 "cells": [
  {
   "cell_type": "markdown",
   "metadata": {},
   "source": [
    "**Question 3**:Write a Python program to check if the given string is a Palindrome or Anagram or None of them.\n",
    "Display the message accordingly to the user."
   ]
  },
  {
   "cell_type": "code",
   "execution_count": 2,
   "metadata": {},
   "outputs": [
    {
     "name": "stdout",
     "output_type": "stream",
     "text": [
      "enter the word:101\n",
      "the word is palindrome\n"
     ]
    }
   ],
   "source": [
    "string1=input(\"enter the word:\")\n",
    "reverse=string1[::-1]\n",
    "if reverse==string1:\n",
    "    print(\"the word is palindrome\")\n",
    "else:\n",
    "    string2=input(\"enter the word:\")\n",
    "    str1=sorted(string1)\n",
    "    str2=sorted(string2)\n",
    "    if str1==str2:\n",
    "        print(\"anagram\")\n",
    "    else:\n",
    "        print(\"NONE\")\n",
    "    "
   ]
  },
  {
   "cell_type": "code",
   "execution_count": null,
   "metadata": {},
   "outputs": [],
   "source": []
  }
 ],
 "metadata": {
  "kernelspec": {
   "display_name": "Python 3",
   "language": "python",
   "name": "python3"
  },
  "language_info": {
   "codemirror_mode": {
    "name": "ipython",
    "version": 3
   },
   "file_extension": ".py",
   "mimetype": "text/x-python",
   "name": "python",
   "nbconvert_exporter": "python",
   "pygments_lexer": "ipython3",
   "version": "3.7.3"
  }
 },
 "nbformat": 4,
 "nbformat_minor": 4
}
