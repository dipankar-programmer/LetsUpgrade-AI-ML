{
 "cells": [
  {
   "cell_type": "markdown",
   "metadata": {},
   "source": [
    "**Question 2:**Write a Python program to implement 15 functions of string. "
   ]
  },
  {
   "cell_type": "code",
   "execution_count": 7,
   "metadata": {},
   "outputs": [
    {
     "name": "stdout",
     "output_type": "stream",
     "text": [
      "Ready to launch 1 2 3\n",
      "ready to launch 1 2 3\n",
      "False\n",
      "False\n",
      "False\n",
      "False\n",
      "True\n",
      "False\n",
      "ready to launch 1 2 3\n",
      "READY TO LAUNCH 1 2 3\n",
      "False\n",
      "16\n"
     ]
    }
   ],
   "source": [
    "#for this let us first take a string\n",
    "x = \"ready to launch 1 2 3\"\n",
    "print(x.capitalize()) #Converts the first character to upper case\n",
    "print(x.casefold())\n",
    "print(x.isalnum())\n",
    "print(x.isalpha())\n",
    "print(x.isdecimal())\n",
    "print(x.isdigit())\n",
    "print(x.islower())\n",
    "print(x.isnumeric())\n",
    "print(x.lower())\n",
    "print(x.upper())\n",
    "print(x.isupper())\n",
    "print(x.)\n",
    "print(x.)\n",
    "myTuple = (\"John\", \"Peter\", \"Vicky\")\n",
    "\n",
    "x = \"#\".join(myTuple)\n",
    "\n",
    "print(x)\n",
    "print(x.index('a'))\n",
    "print(x.find('1'))\n"
   ]
  },
  {
   "cell_type": "code",
   "execution_count": null,
   "metadata": {},
   "outputs": [],
   "source": []
  }
 ],
 "metadata": {
  "kernelspec": {
   "display_name": "Python 3",
   "language": "python",
   "name": "python3"
  },
  "language_info": {
   "codemirror_mode": {
    "name": "ipython",
    "version": 3
   },
   "file_extension": ".py",
   "mimetype": "text/x-python",
   "name": "python",
   "nbconvert_exporter": "python",
   "pygments_lexer": "ipython3",
   "version": "3.7.3"
  }
 },
 "nbformat": 4,
 "nbformat_minor": 4
}
