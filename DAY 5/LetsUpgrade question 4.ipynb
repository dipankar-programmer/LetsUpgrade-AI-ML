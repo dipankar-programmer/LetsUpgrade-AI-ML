{
 "cells": [
  {
   "cell_type": "markdown",
   "metadata": {},
   "source": [
    "**Question 4**:Write a Python's user defined function that removes all the additional characters from the string\n",
    "and converts it finally to lower case using built-in lower(). eg: If the string is \"Dr. Darshan Ingle\n",
    "@AI-ML Trainer\", then the output be \"drdarshaningle aimltrainer\"."
   ]
  },
  {
   "cell_type": "code",
   "execution_count": 2,
   "metadata": {},
   "outputs": [
    {
     "name": "stdout",
     "output_type": "stream",
     "text": [
      "string is -  Dr. Darshan Ingle @AI-ML Trainer\n",
      "String becomes\n",
      "after removing all the special Characters from the string\n",
      "the string becomes : drdarshaningleaimltrainer\n"
     ]
    }
   ],
   "source": [
    "def replace_char(y):\n",
    "    invalid = ['!','@','#','$','%','^','*','(',')','+','_',':','?','.',\" \",'-']\n",
    "    for i in invalid:\n",
    "        y = y.replace(i,'')\n",
    "        y = y.lower()\n",
    "    print(\"after removing all the special Characters from the string\") \n",
    "    print(\"the string becomes :\",y)\n",
    "    \n",
    "string_ = 'Dr. Darshan Ingle @AI-ML Trainer'  \n",
    "print(\"string is - \",string_ )\n",
    "print(\"String becomes\")\n",
    "replace_char(string_)\n",
    "    "
   ]
  },
  {
   "cell_type": "code",
   "execution_count": null,
   "metadata": {},
   "outputs": [],
   "source": []
  }
 ],
 "metadata": {
  "kernelspec": {
   "display_name": "Python 3",
   "language": "python",
   "name": "python3"
  },
  "language_info": {
   "codemirror_mode": {
    "name": "ipython",
    "version": 3
   },
   "file_extension": ".py",
   "mimetype": "text/x-python",
   "name": "python",
   "nbconvert_exporter": "python",
   "pygments_lexer": "ipython3",
   "version": "3.7.3"
  }
 },
 "nbformat": 4,
 "nbformat_minor": 4
}
