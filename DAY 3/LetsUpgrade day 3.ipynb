{
 "cells": [
  {
   "cell_type": "markdown",
   "metadata": {},
   "source": [
    "# **Question 3:**Write a Python program to find the first 20 non-even prime natural numbers "
   ]
  },
  {
   "cell_type": "code",
   "execution_count": 34,
   "metadata": {},
   "outputs": [
    {
     "name": "stdout",
     "output_type": "stream",
     "text": [
      "5\n",
      "10\n",
      "after swapping\n",
      "10\n",
      "5\n"
     ]
    }
   ],
   "source": [
    "\n",
    "x = 5\n",
    "y = 10\n",
    "print(x)\n",
    "print(y)\n",
    "print(\"after swapping\")\n",
    "temp = x\n",
    "x = y\n",
    "y = temp\n",
    "print(x)\n",
    "print(y)\n",
    "\n",
    "\n"
   ]
  },
  {
   "cell_type": "markdown",
   "metadata": {},
   "source": [
    "**Question 4:**Write a program to swap two numbers in Python without using a temporary variab"
   ]
  },
  {
   "cell_type": "code",
   "execution_count": 35,
   "metadata": {},
   "outputs": [
    {
     "name": "stdout",
     "output_type": "stream",
     "text": [
      "Before swapping: \n",
      "Value of x :  5  and y :  7\n",
      "After swapping: \n",
      "Value of x :  7  and y :  5\n"
     ]
    }
   ],
   "source": [
    "x = 5\n",
    "y = 7\n",
    "  \n",
    "print (\"Before swapping: \") \n",
    "print(\"Value of x : \", x, \" and y : \", y) \n",
    "x, y = y, x \n",
    "  \n",
    "print (\"After swapping: \") \n",
    "print(\"Value of x : \", x, \" and y : \", y) \n"
   ]
  },
  {
   "cell_type": "markdown",
   "metadata": {},
   "source": [
    "**Question 5:**Write a program to convert fahrenheit to kelvin and celsius both."
   ]
  },
  {
   "cell_type": "code",
   "execution_count": 37,
   "metadata": {},
   "outputs": [
    {
     "name": "stdout",
     "output_type": "stream",
     "text": [
      "311.27777777777777\n"
     ]
    }
   ],
   "source": [
    "273.5 + ((F - 32.0) * (5.0/9.0)) \n",
    "F = 100\n",
    "print(273.5 + ((F - 32.0) * (5.0/9.0)) )"
   ]
  },
  {
   "cell_type": "code",
   "execution_count": 40,
   "metadata": {},
   "outputs": [
    {
     "name": "stdout",
     "output_type": "stream",
     "text": [
      "37.77777777777778\n"
     ]
    }
   ],
   "source": [
    "fahrenheit = 100\n",
    "celsius = (fahrenheit - 32) * 5/9\n",
    "print(celsius)"
   ]
  },
  {
   "cell_type": "markdown",
   "metadata": {},
   "source": [
    "**Question 1 :**Write a program to subtract two complex numbers in Python."
   ]
  },
  {
   "cell_type": "code",
   "execution_count": 44,
   "metadata": {},
   "outputs": [
    {
     "name": "stdout",
     "output_type": "stream",
     "text": [
      "(2+3j)\n",
      "(1+2j)\n",
      "(1+1j)\n"
     ]
    }
   ],
   "source": [
    "comp1 = complex(2, 3)\n",
    "print(comp1)\n",
    "comp2 = complex(1, 2) \n",
    "print(comp2)\n",
    "comp3 = comp1-comp2\n",
    "print(comp3)"
   ]
  },
  {
   "cell_type": "markdown",
   "metadata": {},
   "source": [
    "**Question 6:**Write a program to demonstrate all the available data types in Python. Hint: Use type() function."
   ]
  },
  {
   "cell_type": "code",
   "execution_count": 50,
   "metadata": {},
   "outputs": [
    {
     "name": "stdout",
     "output_type": "stream",
     "text": [
      "5 is of type <class 'int'>\n",
      "2.0 is of type <class 'float'>\n",
      "(1+2j) is of type True\n",
      "hello is of type <class 'str'>\n",
      "(1, 2, 3) is of type <class 'tuple'>\n",
      "[1, 2, 3] is of type <class 'list'>\n"
     ]
    }
   ],
   "source": [
    "a = 5\n",
    "print(a, \"is of type\", type(a))\n",
    "\n",
    "a = 2.0\n",
    "print(a, \"is of type\", type(a))\n",
    "\n",
    "a = 1+2j\n",
    "print(a, \"is of type\", isinstance(1+2j,complex))\n",
    "\n",
    "a = \"hello\"\n",
    "print(a, \"is of type\",type(a))\n",
    "\n",
    "a = (1,2,3)\n",
    "print(a, \"is of type\",type(a))\n",
    "\n",
    "a = [1,2,3]\n",
    "print(a, \"is of type\",type(a))\n",
    "\n",
    "\n",
    "\n"
   ]
  },
  {
   "cell_type": "markdown",
   "metadata": {},
   "source": [
    "**Question 7:**Create a Markdown cell in jupyter and list the steps discussed in the session by Dr. Darshan Ingle sir to create Github profile and upload Githubs Assignment link."
   ]
  },
  {
   "cell_type": "markdown",
   "metadata": {},
   "source": [
    "1. create a github account\n",
    "2. after creating the account click on Create a new repository\n",
    "3. enter the name of the repository as LetsUpgrade AI-ML and make the repository as public\n",
    "4. the open the google form and the fillup the details and then paste the link to the repository that    we created"
   ]
  },
  {
   "cell_type": "code",
   "execution_count": null,
   "metadata": {},
   "outputs": [],
   "source": []
  }
 ],
 "metadata": {
  "kernelspec": {
   "display_name": "Python 3",
   "language": "python",
   "name": "python3"
  },
  "language_info": {
   "codemirror_mode": {
    "name": "ipython",
    "version": 3
   },
   "file_extension": ".py",
   "mimetype": "text/x-python",
   "name": "python",
   "nbconvert_exporter": "python",
   "pygments_lexer": "ipython3",
   "version": "3.7.3"
  }
 },
 "nbformat": 4,
 "nbformat_minor": 4
}
