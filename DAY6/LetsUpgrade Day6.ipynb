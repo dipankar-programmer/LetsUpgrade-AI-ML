{
 "cells": [
  {
   "cell_type": "markdown",
   "metadata": {},
   "source": [
    "**QUESTION 5 SOLUTION**\n"
   ]
  },
  {
   "cell_type": "code",
   "execution_count": 13,
   "metadata": {},
   "outputs": [
    {
     "name": "stdout",
     "output_type": "stream",
     "text": [
      "Enter number of elements : 5\n",
      "enter the numbers1\n",
      "enter the numbers1\n",
      "enter the numbers3\n",
      "enter the numbers4\n",
      "enter the numbers5\n",
      "[1, 2, 3, 1, 1, 3, 4, 5]\n",
      "[1, 2, 3, 4, 5]\n"
     ]
    }
   ],
   "source": [
    "def Remove(duplicate): \n",
    "    final_list = [] \n",
    "    for num in duplicate: \n",
    "        if num not in final_list: \n",
    "            final_list.append(num) \n",
    "    return final_list\n",
    "  \n",
    "\n",
    "n = int(input(\"Enter number of elements : \")) \n",
    "  \n",
    "\n",
    "for i in range(0, n): \n",
    "    ele = int(input(\"enter the numbers: \")) \n",
    "  \n",
    "    lst.append(ele) \n",
    "      \n",
    "print(lst)\n",
    "\n",
    "print(Remove(lst)) \n",
    "    "
   ]
  },
  {
   "cell_type": "markdown",
   "metadata": {},
   "source": [
    "**QUESTION 4 SOLUTION**"
   ]
  },
  {
   "cell_type": "code",
   "execution_count": 19,
   "metadata": {},
   "outputs": [
    {
     "name": "stdout",
     "output_type": "stream",
     "text": [
      "3.0\n"
     ]
    }
   ],
   "source": [
    "def getMissingNo(A): \n",
    "    n = len(A) \n",
    "    total = (n + 1)*(n + 2)/2\n",
    "    sum_of_A = sum(A) \n",
    "    return total - sum_of_A \n",
    "  \n",
    "A = [1,2,4,5] \n",
    "miss = getMissingNo(A) \n",
    "print(miss) \n"
   ]
  },
  {
   "cell_type": "markdown",
   "metadata": {},
   "source": [
    "**QUESTION 2 SOLUTION**"
   ]
  },
  {
   "cell_type": "code",
   "execution_count": 30,
   "metadata": {
    "scrolled": true
   },
   "outputs": [
    {
     "name": "stdout",
     "output_type": "stream",
     "text": [
      "a\n",
      "b\n",
      "c\n",
      "d\n",
      "e\n"
     ]
    }
   ],
   "source": [
    "def sortLexo(my_string):  \n",
    "    words = my_string.split(\",\") \n",
    "    words.sort() \n",
    "    for i in words: \n",
    "        print( i )  \n",
    "  \n",
    "\n",
    "      \n",
    "my_string = \"b,c,a,e,d\"  \n",
    "sortLexo(my_string)\n",
    "   "
   ]
  },
  {
   "cell_type": "markdown",
   "metadata": {},
   "source": [
    "**QUESTION 1 SOLUTION**"
   ]
  },
  {
   "cell_type": "code",
   "execution_count": 33,
   "metadata": {},
   "outputs": [
    {
     "name": "stdout",
     "output_type": "stream",
     "text": [
      "google\n"
     ]
    }
   ],
   "source": [
    "def sp(A):\n",
    "    words = A.split(\"@\")\n",
    "    w = words[1].split(\".\")\n",
    "    return w[0]\n",
    "\n",
    "b=\"asd@google.com\"\n",
    "c=sp(b)\n",
    "print(c)\n",
    "    "
   ]
  },
  {
   "cell_type": "markdown",
   "metadata": {},
   "source": [
    "**QUESTION 3 SOLUTION**"
   ]
  },
  {
   "cell_type": "markdown",
   "metadata": {},
   "source": [
    "the basic set operations are-<br />\n",
    "1.union<br />\n",
    "2.intersection<br />\n",
    "3.superset <br />\n",
    "4.subset<br />"
   ]
  },
  {
   "cell_type": "code",
   "execution_count": 37,
   "metadata": {},
   "outputs": [
    {
     "name": "stdout",
     "output_type": "stream",
     "text": [
      "set 1 =  {1, 2, 3, 4, 5}\n",
      "set 2 =  {3, 4, 5, 6, 7}\n",
      "\n",
      "\n",
      "Union of set 1 & set 2: set 3 =  {1, 2, 3, 4, 5, 6, 7}\n",
      "Intersection of set 1 & set 2: set 4 =  {3, 4, 5}\n",
      "\n",
      "\n",
      "set 3 is superset of set 4\n"
     ]
    }
   ],
   "source": [
    "S1 = set() \n",
    "S2 = set() \n",
    "for i in range(1, 6): \n",
    "    S1.add(i) \n",
    "for i in range(3, 8): \n",
    "    S2.add(i) \n",
    "print(\"set 1 = \",S1) \n",
    "print(\"set 2 = \",S2) \n",
    "print(\"\\n\") \n",
    "S3 = S1 | S2 \n",
    "print(\"Union of set 1 & set 2: set 3 = \", S3) \n",
    "S4 = S1 & S2\n",
    "print(\"Intersection of set 1 & set 2: set 4 = \", S4) \n",
    "print(\"\\n\") \n",
    "if S3 > S4: \n",
    "    print(\"set 3 is superset of set 4\") \n",
    "elif S3 < S4: \n",
    "    print(\"set 3 is subset of set 4\") \n",
    "else : \n",
    "    print(\"set 3 is same as set 4\") \n",
    "  \n",
    " \n"
   ]
  },
  {
   "cell_type": "code",
   "execution_count": null,
   "metadata": {},
   "outputs": [],
   "source": []
  }
 ],
 "metadata": {
  "kernelspec": {
   "display_name": "Python 3",
   "language": "python",
   "name": "python3"
  },
  "language_info": {
   "codemirror_mode": {
    "name": "ipython",
    "version": 3
   },
   "file_extension": ".py",
   "mimetype": "text/x-python",
   "name": "python",
   "nbconvert_exporter": "python",
   "pygments_lexer": "ipython3",
   "version": "3.7.3"
  }
 },
 "nbformat": 4,
 "nbformat_minor": 4
}
